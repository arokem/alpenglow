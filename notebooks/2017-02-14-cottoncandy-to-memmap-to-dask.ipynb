{
 "cells": [
  {
   "cell_type": "code",
   "execution_count": 1,
   "metadata": {
    "collapsed": false
   },
   "outputs": [],
   "source": [
    "import configparser"
   ]
  },
  {
   "cell_type": "code",
   "execution_count": 2,
   "metadata": {
    "collapsed": true
   },
   "outputs": [],
   "source": [
    "import os.path as op"
   ]
  },
  {
   "cell_type": "code",
   "execution_count": 3,
   "metadata": {
    "collapsed": false
   },
   "outputs": [],
   "source": [
    "CP = configparser.ConfigParser()\n",
    "CP.read_file(open(op.join(op.expanduser('~'), '.aws', 'credentials')))\n",
    "CP.sections()\n",
    "ak = CP.get('default', 'AWS_ACCESS_KEY_ID')\n",
    "sk = CP.get('default', 'AWS_SECRET_ACCESS_KEY')"
   ]
  },
  {
   "cell_type": "code",
   "execution_count": 4,
   "metadata": {
    "collapsed": false
   },
   "outputs": [],
   "source": [
    "import numpy as np\n",
    "import cottoncandy as cc"
   ]
  },
  {
   "cell_type": "code",
   "execution_count": 5,
   "metadata": {
    "collapsed": true
   },
   "outputs": [],
   "source": [
    "from tempfile import mkdtemp\n",
    "import os.path as path"
   ]
  },
  {
   "cell_type": "code",
   "execution_count": 6,
   "metadata": {
    "collapsed": false
   },
   "outputs": [],
   "source": [
    "import sys \n",
    "sys.path.append('..')\n",
    "import alpenglow.files as af\n",
    "import matplotlib.pyplot as plt\n",
    "%matplotlib inline\n",
    "import skimage.external.tifffile as tiff\n",
    "from skimage import transform\n",
    "import numpy as np\n",
    "import shutil as sh\n",
    "import os\n",
    "import boto3\n",
    "from scipy import optimize\n",
    "import alpenglow.stitching\n",
    "from imp import reload\n",
    "reload(alpenglow.stitching)\n",
    "from alpenglow.stitching import stitch, find_shift, apply_shift, stitch_zstack\n",
    "import alpenglow.stitching as ast"
   ]
  },
  {
   "cell_type": "code",
   "execution_count": 7,
   "metadata": {
    "collapsed": true
   },
   "outputs": [],
   "source": [
    "import skimage\n",
    "from skimage.feature import register_translation\n",
    "from skimage import img_as_float\n",
    "from skimage import exposure\n",
    "from skimage.io import imread_collection, ImageCollection\n",
    "import skimage.external.tifffile as tif"
   ]
  },
  {
   "cell_type": "code",
   "execution_count": 8,
   "metadata": {
    "collapsed": true
   },
   "outputs": [],
   "source": [
    "import dask.array as da\n",
    "from dask import delayed"
   ]
  },
  {
   "cell_type": "code",
   "execution_count": 9,
   "metadata": {
    "collapsed": true
   },
   "outputs": [],
   "source": [
    "import time"
   ]
  },
  {
   "cell_type": "code",
   "execution_count": 10,
   "metadata": {
    "collapsed": true
   },
   "outputs": [],
   "source": [
    "file_list = ['/phantom_2_7_2017/%06d/%06d_%05d.tif'%(s, s, i) for s in range(3) for i in range(1, 1801) ]"
   ]
  },
  {
   "cell_type": "code",
   "execution_count": 11,
   "metadata": {
    "collapsed": false
   },
   "outputs": [],
   "source": [
    "from io import BytesIO"
   ]
  },
  {
   "cell_type": "code",
   "execution_count": 12,
   "metadata": {
    "collapsed": true
   },
   "outputs": [],
   "source": [
    "f = file_list[0]"
   ]
  },
  {
   "cell_type": "code",
   "execution_count": 13,
   "metadata": {
    "collapsed": true
   },
   "outputs": [],
   "source": [
    "import tempfile"
   ]
  },
  {
   "cell_type": "code",
   "execution_count": 14,
   "metadata": {
    "collapsed": true
   },
   "outputs": [
    {
     "name": "stdout",
     "output_type": "stream",
     "text": [
      "Available buckets:\n",
      "aamirdsbucket                            2015/06/24 (10:07:20)\n",
      "airlineeconomics                         2015/01/28 (19:34:11)\n",
      "alpenglowoptics                          2017/01/11 (00:43:32)\n",
      "arokem-mribmarktmp                       2016/03/31 (00:54:20)\n",
      "arxiv-compressed                         2015/05/16 (00:05:05)\n",
      "arxiv-tars                               2015/05/15 (20:32:23)\n",
      "arxiv-tars-pdfs                          2015/05/15 (23:27:25)\n",
      "aws-logs-455598791984-us-east-1          2015/06/24 (09:27:48)\n",
      "bernease                                 2016/01/28 (18:33:44)\n",
      "bijaybuc                                 2015/06/24 (11:50:12)\n",
      "census-cdr                               2016/07/08 (23:30:03)\n",
      "cf-templates-khq1qvxd59lq-us-east-1      2012/10/24 (18:27:30)\n",
      "community-wellbeing                      2015/06/25 (18:36:25)\n",
      "dssgparatransitdata                      2016/08/29 (21:49:24)\n",
      "elasticbeanstalk-us-east-1-455598791984  2016/09/15 (01:11:14)\n",
      "escience-cloud-trail                     2014/06/03 (20:14:22)\n",
      "escience.washington.edu                  2012/04/09 (04:23:32)\n",
      "escience.washington.edu.20150624datasciencecourse 2015/06/24 (09:32:35)\n",
      "escience.washington.edu.aalborg.kimajakobsen 2015/06/24 (10:07:38)\n",
      "escience.washington.edu.abdul            2015/06/24 (10:07:04)\n",
      "escience.washington.edu.abdul.sparktest  2015/06/24 (08:57:45)\n",
      "escience.washington.edu.alan             2010/02/03 (23:37:06)\n",
      "escience.washington.edu.allenbrain       2014/08/31 (17:50:51)\n",
      "escience.washington.edu.atowfiq          2009/12/01 (19:01:32)\n",
      "escience.washington.edu.beck             2009/11/30 (01:24:02)\n",
      "escience.washington.edu.billhowe.sparktest 2015/06/24 (08:58:09)\n",
      "escience.washington.edu.billhowe2        2009/11/20 (21:53:51)\n",
      "escience.washington.edu.billing-reports  2015/03/10 (23:08:29)\n",
      "escience.washington.edu.brentfall        2009/12/01 (18:38:05)\n",
      "escience.washington.edu.btc              2012/08/10 (01:10:57)\n",
      "escience.washington.edu.camhd            2016/05/12 (17:20:24)\n",
      "escience.washington.edu.cardiac          2009/12/01 (19:06:11)\n",
      "escience.washington.edu.chance           2009/12/01 (17:56:59)\n",
      "escience.washington.edu.classchrisbee    2010/02/03 (23:16:03)\n",
      "escience.washington.edu.classmgmarino3feb2010 2010/02/03 (23:33:39)\n",
      "escience.washington.edu.classpmartz      2010/02/03 (23:37:53)\n",
      "escience.washington.edu.classweichen     2010/02/03 (23:51:45)\n",
      "escience.washington.edu.cloudburst       2012/04/09 (05:44:56)\n",
      "escience.washington.edu.cloudcourse.lecture1 2012/04/02 (03:06:03)\n",
      "escience.washington.edu.dacb             2009/11/24 (22:33:24)\n",
      "escience.washington.edu.daisy            2011/05/19 (21:25:57)\n",
      "escience.washington.edu.dc               2010/02/03 (23:41:46)\n",
      "escience.washington.edu.fong             2009/12/01 (19:00:29)\n",
      "escience.washington.edu.glymphatic       2015/04/29 (03:07:08)\n",
      "escience.washington.edu.hana             2009/12/01 (19:05:55)\n",
      "escience.washington.edu.hardi            2015/04/27 (19:43:27)\n",
      "escience.washington.edu.images           2010/08/12 (04:06:47)\n",
      "escience.washington.edu.jeffs-keypair    2009/11/24 (22:20:36)\n",
      "escience.washington.edu.jespergadegaard.spark 2015/06/24 (08:58:28)\n",
      "escience.washington.edu.jilin.spark      2015/06/24 (08:58:44)\n",
      "escience.washington.edu.justinkeys       2009/12/01 (18:48:58)\n",
      "escience.washington.edu.lundberg         2009/12/01 (18:43:17)\n",
      "escience.washington.edu.magnusdahl       2015/06/24 (10:07:22)\n",
      "escience.washington.edu.mezer            2015/12/20 (00:45:32)\n",
      "escience.washington.edu.nancejk.feb3     2010/02/03 (23:34:07)\n",
      "escience.washington.edu.pschurr          2009/12/01 (19:01:54)\n",
      "escience.washington.edu.pschurr-keypair  2009/12/01 (19:47:20)\n",
      "escience.washington.edu.public           2012/11/06 (21:33:11)\n",
      "escience.washington.edu.rasmusbonnevie.sparktest 2015/06/24 (08:58:06)\n",
      "escience.washington.edu.rkhorwitz        2009/12/01 (18:39:01)\n",
      "escience.washington.edu.rsodt            2009/12/01 (18:32:14)\n",
      "escience.washington.edu.rudra.aalborg    2015/06/24 (09:21:34)\n",
      "escience.washington.edu.seretuaccidente  2009/12/01 (19:02:44)\n",
      "escience.washington.edu.sgogarten        2009/12/01 (18:28:50)\n",
      "escience.washington.edu.sloebman         2009/12/01 (18:54:55)\n",
      "escience.washington.edu.stanford-hardi   2015/04/27 (16:24:15)\n",
      "escience.washington.edu.svn              2010/03/27 (05:41:59)\n",
      "escience.washington.edu.toby             2010/02/03 (23:42:27)\n",
      "escience.washington.edu.viziometrics     2014/09/26 (17:27:36)\n",
      "escience.washington.edu.workshop         2009/11/20 (21:51:12)\n",
      "escience.washington.edu.xfer             2014/06/04 (17:03:23)\n",
      "escience.washington.edu.ybu              2010/02/20 (07:33:36)\n",
      "escience.washington.edu.yingyi           2010/06/28 (01:57:42)\n",
      "gmm-hadoop                               2015/03/17 (02:26:57)\n",
      "hyrkas.iaai.2015.seaflow.data            2014/11/19 (01:26:13)\n",
      "hyrkas.iaai.2015.seaflow.logs            2014/11/19 (01:26:50)\n",
      "kasun                                    2015/06/24 (11:35:06)\n",
      "kasunp                                   2015/06/24 (09:51:36)\n",
      "lecture1                                 2012/04/06 (01:54:07)\n",
      "mbeyeler-p2p-horsager2011                2016/10/20 (00:03:48)\n",
      "msd-code                                 2015/04/30 (19:39:31)\n",
      "ovebucket                                2015/06/24 (09:05:02)\n",
      "paratransit                              2015/06/19 (02:04:14)\n",
      "python-sdk-sample-0ab253a8-a728-46e0-ba0c-b637091a952e 2015/06/12 (22:18:59)\n",
      "python-sdk-sample-105ab8be-e7e1-4f93-8e5c-1f7f0bff870d 2015/06/12 (22:18:51)\n",
      "python-sdk-sample-17f0abe5-fccb-4c68-884e-417ff49db9e2 2015/06/12 (22:17:24)\n",
      "python-sdk-sample-7ee77d0a-d063-4d4b-9d30-8f74dd8a5c2c 2015/06/12 (22:18:20)\n",
      "python-sdk-sample-f1365f35-2acd-4c8c-89d2-0cd6845f5cf5 2015/06/12 (22:17:03)\n",
      "sclayton-data                            2016/01/26 (23:05:49)\n",
      "seaflow                                  2015/07/24 (02:01:47)\n",
      "sh.sindh.edu                             2015/06/24 (09:13:07)\n",
      "spark-example-bucket                     2015/06/24 (09:14:19)\n",
      "sqlsharedatarelease1                     2015/11/24 (00:27:39)\n",
      "testbucketfordatasciencecourse           2015/06/24 (10:04:51)\n",
      "timvega                                  2013/05/22 (19:27:48)\n",
      "unsafefoods                              2016/07/13 (20:41:33)\n",
      "Current bucket:\n",
      "alpenglowoptics\n"
     ]
    }
   ],
   "source": [
    "cci = cc.get_interface('alpenglowoptics', \n",
    "                       ACCESS_KEY=ak, \n",
    "                       SECRET_KEY=sk,\n",
    "                       endpoint_url='https://s3.amazonaws.com')"
   ]
  },
  {
   "cell_type": "code",
   "execution_count": 52,
   "metadata": {
    "collapsed": true
   },
   "outputs": [],
   "source": [
    "def s3_to_array(f, cci):\n",
    "    o = cci.download_object(f)\n",
    "    b = BytesIO(o)\n",
    "    t = tif.TiffFile(b)\n",
    "    a = t.asarray()\n",
    "    return a"
   ]
  },
  {
   "cell_type": "code",
   "execution_count": 53,
   "metadata": {
    "collapsed": true
   },
   "outputs": [],
   "source": [
    "sample = s3_to_array(file_list[0], cci)"
   ]
  },
  {
   "cell_type": "code",
   "execution_count": 54,
   "metadata": {
    "collapsed": false
   },
   "outputs": [
    {
     "data": {
      "text/plain": [
       "(512, 900)"
      ]
     },
     "execution_count": 54,
     "metadata": {},
     "output_type": "execute_result"
    }
   ],
   "source": [
    "sample.shape"
   ]
  },
  {
   "cell_type": "code",
   "execution_count": 59,
   "metadata": {
    "collapsed": true
   },
   "outputs": [],
   "source": [
    "n_files = 1800"
   ]
  },
  {
   "cell_type": "code",
   "execution_count": 60,
   "metadata": {
    "collapsed": false
   },
   "outputs": [],
   "source": [
    "mm_fd, mm_fname = tempfile.mkstemp(suffix='.memmap')    \n",
    "os.close(mm_fd)\n",
    "mm = np.memmap(mm_fname, dtype=sample.dtype, \n",
    "               shape=(n_files, sample.shape[0], sample.shape[1]))"
   ]
  },
  {
   "cell_type": "code",
   "execution_count": 63,
   "metadata": {
    "collapsed": false
   },
   "outputs": [
    {
     "name": "stdout",
     "output_type": "stream",
     "text": [
      "171.0358021259308\n"
     ]
    }
   ],
   "source": [
    "t1 = time.time()\n",
    "for ii in range(n_files):\n",
    "    mm[ii] = s3_to_array(file_list[ii], cci)\n",
    "t2 = time.time()\n",
    "print(t2-t1)"
   ]
  },
  {
   "cell_type": "code",
   "execution_count": 67,
   "metadata": {
    "collapsed": false
   },
   "outputs": [
    {
     "data": {
      "text/plain": [
       "(1800, 512, 900)"
      ]
     },
     "execution_count": 67,
     "metadata": {},
     "output_type": "execute_result"
    }
   ],
   "source": [
    "mm.shape"
   ]
  },
  {
   "cell_type": "code",
   "execution_count": null,
   "metadata": {
    "collapsed": true
   },
   "outputs": [],
   "source": [
    "def collection_to_memmap(collection):\n",
    "    f = path.join(mkdtemp(), 'images7.dat')\n",
    "    h = open(f, 'w')\n",
    "    mm = np.memmap(f, dtype=collection[0].dtype, \n",
    "                   shape=(len(collection), \n",
    "                          collection[0].shape[0], \n",
    "                          collection[0].shape[1]))\n",
    "    for z in range(mm.shape[0]):\n",
    "        mm[z] = collection[z]\n",
    "    \n",
    "    return mm"
   ]
  },
  {
   "cell_type": "code",
   "execution_count": null,
   "metadata": {
    "collapsed": false
   },
   "outputs": [],
   "source": [
    "t1 = time.time()\n",
    "mm7 = collection_to_memmap(images_7)\n",
    "mm8 = collection_to_memmap(images_8)\n",
    "t2 = time.time()\n",
    "print(t2-t1)"
   ]
  },
  {
   "cell_type": "code",
   "execution_count": null,
   "metadata": {
    "collapsed": false
   },
   "outputs": [],
   "source": [
    "t1 = time.time()\n",
    "stack_8_mm = ast.stitch_zstack(mm7, mm8)\n",
    "t2 = time.time()\n",
    "print(t2-t1)"
   ]
  },
  {
   "cell_type": "code",
   "execution_count": null,
   "metadata": {
    "collapsed": false
   },
   "outputs": [],
   "source": [
    "t1 = time.time()\n",
    "stack_8_col = ast.stitch_zstack(images_7, images_8, current_stack=8)\n",
    "t2 = time.time()\n",
    "print(t2-t1)"
   ]
  },
  {
   "cell_type": "code",
   "execution_count": null,
   "metadata": {
    "collapsed": false
   },
   "outputs": [],
   "source": [
    "226 + 80, 510"
   ]
  },
  {
   "cell_type": "code",
   "execution_count": null,
   "metadata": {
    "collapsed": false
   },
   "outputs": [],
   "source": [
    "plt.matshow(stack_8_col[1][:, 10000:15000])"
   ]
  },
  {
   "cell_type": "code",
   "execution_count": null,
   "metadata": {
    "collapsed": false
   },
   "outputs": [],
   "source": [
    "plt.matshow(stack_8_mm[1, :, 10000:15000])"
   ]
  },
  {
   "cell_type": "code",
   "execution_count": null,
   "metadata": {
    "collapsed": false
   },
   "outputs": [],
   "source": [
    "np.all(stack_8_col[1] == stack_8_mm[1])"
   ]
  },
  {
   "cell_type": "code",
   "execution_count": null,
   "metadata": {
    "collapsed": true
   },
   "outputs": [],
   "source": [
    "f = np.fft.fft2(stack_8_mm[1, :, 10000:15000])"
   ]
  },
  {
   "cell_type": "code",
   "execution_count": null,
   "metadata": {
    "collapsed": false
   },
   "outputs": [],
   "source": [
    "plt.matshow(np.log(np.fft.fftshift(np.abs(f))))"
   ]
  },
  {
   "cell_type": "code",
   "execution_count": null,
   "metadata": {
    "collapsed": true
   },
   "outputs": [],
   "source": [
    "f_shift = np.fft.fftshift(f)"
   ]
  },
  {
   "cell_type": "code",
   "execution_count": null,
   "metadata": {
    "collapsed": false
   },
   "outputs": [],
   "source": [
    "f_shift[723-10:723+10, 800:1000] = np.mean(f_shift)\n",
    "f_shift[723-10:723+10, -1000:-800] = np.mean(f_shift)"
   ]
  },
  {
   "cell_type": "code",
   "execution_count": null,
   "metadata": {
    "collapsed": false
   },
   "outputs": [],
   "source": [
    "plt.matshow(np.log(np.abs(f_shift)))"
   ]
  },
  {
   "cell_type": "code",
   "execution_count": null,
   "metadata": {
    "collapsed": false
   },
   "outputs": [],
   "source": [
    "plt.plot(np.log(f_shift)[723])\n",
    "plt.plot([800, 800], [0, 22])\n",
    "plt.plot([1000, 1000], [0, 22])"
   ]
  },
  {
   "cell_type": "code",
   "execution_count": null,
   "metadata": {
    "collapsed": false
   },
   "outputs": [],
   "source": [
    "plt.matshow(np.abs(np.fft.ifft2(np.fft.fftshift(f_shift))), cmap='viridis')"
   ]
  },
  {
   "cell_type": "code",
   "execution_count": null,
   "metadata": {
    "collapsed": false
   },
   "outputs": [],
   "source": []
  },
  {
   "cell_type": "code",
   "execution_count": null,
   "metadata": {
    "collapsed": true
   },
   "outputs": [],
   "source": []
  }
 ],
 "metadata": {
  "kernelspec": {
   "display_name": "Python 3",
   "language": "python",
   "name": "python3"
  },
  "language_info": {
   "codemirror_mode": {
    "name": "ipython",
    "version": 3
   },
   "file_extension": ".py",
   "mimetype": "text/x-python",
   "name": "python",
   "nbconvert_exporter": "python",
   "pygments_lexer": "ipython3",
   "version": "3.5.2"
  }
 },
 "nbformat": 4,
 "nbformat_minor": 2
}
