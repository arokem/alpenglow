{
 "cells": [
  {
   "cell_type": "code",
   "execution_count": 1,
   "metadata": {
    "collapsed": false
   },
   "outputs": [],
   "source": [
    "import sys \n",
    "sys.path.append('..')\n",
    "import alpenglow.files as af\n",
    "import matplotlib.pyplot as plt\n",
    "%matplotlib inline\n",
    "import skimage.external.tifffile as tiff\n",
    "from skimage import transform\n",
    "import numpy as np\n",
    "import shutil as sh\n",
    "import os\n",
    "import boto3\n",
    "from scipy import optimize\n",
    "import alpenglow.stitching\n",
    "from imp import reload\n",
    "reload(alpenglow.stitching)\n",
    "from alpenglow.stitching import stitch, find_shift, apply_shift"
   ]
  },
  {
   "cell_type": "code",
   "execution_count": 2,
   "metadata": {
    "collapsed": true
   },
   "outputs": [],
   "source": [
    "from skimage.feature import register_translation\n",
    "from skimage import img_as_float\n",
    "from skimage import exposure\n",
    "from skimage.io import imread_collection, ImageCollection\n",
    "from skimage.external.tifffile import imread"
   ]
  },
  {
   "cell_type": "code",
   "execution_count": 3,
   "metadata": {
    "collapsed": false
   },
   "outputs": [],
   "source": [
    "s3 = boto3.resource('s3')\n",
    "\n",
    "bucket = s3.Bucket('alpenglowoptics')\n",
    "\n",
    "ll = list(bucket.objects.all())"
   ]
  },
  {
   "cell_type": "code",
   "execution_count": 9,
   "metadata": {
    "collapsed": true
   },
   "outputs": [],
   "source": [
    "for x in range(1,129):\n",
    "    for strip in [7,8,9,10,11,12]:\n",
    "        fname = \"im_%06d_%06d.tif\" % (strip, x)\n",
    "        af.download_s3('76AO/Strips/' + fname, '../data/' + fname)"
   ]
  },
  {
   "cell_type": "code",
   "execution_count": 10,
   "metadata": {
    "collapsed": true
   },
   "outputs": [],
   "source": [
    "images_7 = imread_collection(\"../data/im_000007_0*\")\n",
    "images_8 = imread_collection(\"../data/im_000008_0*\")\n",
    "images_9 = imread_collection(\"../data/im_000009_0*\")\n",
    "images_10 = imread_collection(\"../data/im_000010_0*\")\n",
    "images_11 = imread_collection(\"../data/im_000011_0*\")\n",
    "images_12 = imread_collection(\"../data/im_000012_0*\")\n"
   ]
  },
  {
   "cell_type": "code",
   "execution_count": 11,
   "metadata": {
    "collapsed": true
   },
   "outputs": [],
   "source": [
    "def stitch_zstack(images_1, images_2, current_stack):\n",
    "    \"\"\"\n",
    "    \n",
    "    \"\"\"\n",
    "    sub_images_1 = []\n",
    "    sub_images_2 = []\n",
    "    ps = []\n",
    "    for x in range(10,100,10):\n",
    "        p = int(np.percentile(np.arange(len(images_1)), x))\n",
    "        sub_images_1_p = images_1[p]\n",
    "        sub_images_2_p = images_2[p]\n",
    "        sub_images_1.append(sub_images_1_p)\n",
    "        sub_images_2.append(sub_images_2_p)\n",
    "        ps.append(p)\n",
    "    \n",
    "    shift = []\n",
    "    for x in range(len(sub_images_1)):\n",
    "        shift.append(find_shift(sub_images_1[x], sub_images_2[x]))\n",
    "    shift = np.array(shift)\n",
    "    coef = []\n",
    "    coef = np.polyfit(ps, shift[:,0], 1)\n",
    "    \n",
    "    shift_last = int(np.round(np.polyval(coef, len(images_1))))\n",
    "    rows = images_1[0].shape[0]+images_2[0].shape[0]\n",
    "    overlap = (images_2[0].shape[0]//2)+shift_last\n",
    "    chop_index = int(rows - overlap)\n",
    "\n",
    "    for z_level in range(len(images_1)):\n",
    "        shift_zero = int(np.round(np.polyval(coef, z_level)))\n",
    "        shift_one = int(np.round(np.mean(shift[:,1])))\n",
    "        registered = apply_shift(images_1[z_level], images_2[z_level], [shift_zero, shift_one])\n",
    "        tiff.imsave(\"mosaic_%06d_%06d.tif\"%(current_stack, z_level+1), registered[:chop_index]) \n",
    "        "
   ]
  },
  {
   "cell_type": "code",
   "execution_count": 14,
   "metadata": {
    "collapsed": false
   },
   "outputs": [],
   "source": [
    "stitch_zstack(images_7, images_8, 8)"
   ]
  },
  {
   "cell_type": "code",
   "execution_count": 12,
   "metadata": {
    "collapsed": true
   },
   "outputs": [],
   "source": [
    "mosaic_8 = ImageCollection(\"mosaic_000008*\", plugin=\"tifffile\")"
   ]
  },
  {
   "cell_type": "code",
   "execution_count": 13,
   "metadata": {
    "collapsed": false
   },
   "outputs": [
    {
     "ename": "IndexError",
     "evalue": "There are only 0 images in the collection",
     "output_type": "error",
     "traceback": [
      "\u001b[0;31m---------------------------------------------------------------------------\u001b[0m",
      "\u001b[0;31mIndexError\u001b[0m                                Traceback (most recent call last)",
      "\u001b[0;32m<ipython-input-13-faacdad1681b>\u001b[0m in \u001b[0;36m<module>\u001b[0;34m()\u001b[0m\n\u001b[0;32m----> 1\u001b[0;31m \u001b[0mmosaic_8\u001b[0m\u001b[0;34m[\u001b[0m\u001b[0;36m0\u001b[0m\u001b[0;34m]\u001b[0m\u001b[0;34m\u001b[0m\u001b[0m\n\u001b[0m",
      "\u001b[0;32m/opt/anaconda/lib/python3.5/site-packages/skimage/io/collection.py\u001b[0m in \u001b[0;36m__getitem__\u001b[0;34m(self, n)\u001b[0m\n\u001b[1;32m    248\u001b[0m \u001b[0;34m\u001b[0m\u001b[0m\n\u001b[1;32m    249\u001b[0m         \u001b[0;32mif\u001b[0m \u001b[0mtype\u001b[0m\u001b[0;34m(\u001b[0m\u001b[0mn\u001b[0m\u001b[0;34m)\u001b[0m \u001b[0;32mis\u001b[0m \u001b[0mint\u001b[0m\u001b[0;34m:\u001b[0m\u001b[0;34m\u001b[0m\u001b[0m\n\u001b[0;32m--> 250\u001b[0;31m             \u001b[0mn\u001b[0m \u001b[0;34m=\u001b[0m \u001b[0mself\u001b[0m\u001b[0;34m.\u001b[0m\u001b[0m_check_imgnum\u001b[0m\u001b[0;34m(\u001b[0m\u001b[0mn\u001b[0m\u001b[0;34m)\u001b[0m\u001b[0;34m\u001b[0m\u001b[0m\n\u001b[0m\u001b[1;32m    251\u001b[0m             \u001b[0midx\u001b[0m \u001b[0;34m=\u001b[0m \u001b[0mn\u001b[0m \u001b[0;34m%\u001b[0m \u001b[0mlen\u001b[0m\u001b[0;34m(\u001b[0m\u001b[0mself\u001b[0m\u001b[0;34m.\u001b[0m\u001b[0mdata\u001b[0m\u001b[0;34m)\u001b[0m\u001b[0;34m\u001b[0m\u001b[0m\n\u001b[1;32m    252\u001b[0m \u001b[0;34m\u001b[0m\u001b[0m\n",
      "\u001b[0;32m/opt/anaconda/lib/python3.5/site-packages/skimage/io/collection.py\u001b[0m in \u001b[0;36m_check_imgnum\u001b[0;34m(self, n)\u001b[0m\n\u001b[1;32m    299\u001b[0m         \u001b[0;32melse\u001b[0m\u001b[0;34m:\u001b[0m\u001b[0;34m\u001b[0m\u001b[0m\n\u001b[1;32m    300\u001b[0m             raise IndexError(\"There are only %s images in the collection\"\n\u001b[0;32m--> 301\u001b[0;31m                              % num)\n\u001b[0m\u001b[1;32m    302\u001b[0m         \u001b[0;32mreturn\u001b[0m \u001b[0mn\u001b[0m\u001b[0;34m\u001b[0m\u001b[0m\n\u001b[1;32m    303\u001b[0m \u001b[0;34m\u001b[0m\u001b[0m\n",
      "\u001b[0;31mIndexError\u001b[0m: There are only 0 images in the collection"
     ]
    }
   ],
   "source": [
    "mosaic_8[0]"
   ]
  },
  {
   "cell_type": "code",
   "execution_count": null,
   "metadata": {
    "collapsed": false
   },
   "outputs": [],
   "source": [
    "test_55 = imread(\"mosaic_000009_000055.tif\")"
   ]
  },
  {
   "cell_type": "code",
   "execution_count": null,
   "metadata": {
    "collapsed": false
   },
   "outputs": [],
   "source": [
    "test_55.shape"
   ]
  },
  {
   "cell_type": "code",
   "execution_count": null,
   "metadata": {
    "collapsed": false
   },
   "outputs": [],
   "source": [
    "plt.matshow(test_55[:, 5000:15000])"
   ]
  },
  {
   "cell_type": "code",
   "execution_count": null,
   "metadata": {
    "collapsed": false
   },
   "outputs": [],
   "source": [
    "pwd"
   ]
  },
  {
   "cell_type": "code",
   "execution_count": null,
   "metadata": {
    "collapsed": true
   },
   "outputs": [],
   "source": [
    "rm mosaic_000008*"
   ]
  },
  {
   "cell_type": "code",
   "execution_count": null,
   "metadata": {
    "collapsed": true
   },
   "outputs": [],
   "source": []
  },
  {
   "cell_type": "code",
   "execution_count": null,
   "metadata": {
    "collapsed": true
   },
   "outputs": [],
   "source": []
  }
 ],
 "metadata": {
  "kernelspec": {
   "display_name": "Python 3",
   "language": "python",
   "name": "python3"
  },
  "language_info": {
   "codemirror_mode": {
    "name": "ipython",
    "version": 3
   },
   "file_extension": ".py",
   "mimetype": "text/x-python",
   "name": "python",
   "nbconvert_exporter": "python",
   "pygments_lexer": "ipython3",
   "version": "3.5.2"
  }
 },
 "nbformat": 4,
 "nbformat_minor": 2
}
