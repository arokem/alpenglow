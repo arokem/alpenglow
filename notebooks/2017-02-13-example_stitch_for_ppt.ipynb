{
 "cells": [
  {
   "cell_type": "code",
   "execution_count": 1,
   "metadata": {
    "collapsed": true
   },
   "outputs": [],
   "source": [
    "import sys \n",
    "sys.path.append('..')\n",
    "import alpenglow.files as af\n",
    "import matplotlib.pyplot as plt\n",
    "%matplotlib inline\n",
    "import skimage.external.tifffile as tiff\n",
    "from skimage import transform\n",
    "import numpy as np\n",
    "import shutil as sh\n",
    "import os\n",
    "import boto3\n",
    "from scipy import optimize\n",
    "import alpenglow.stitching\n",
    "from imp import reload\n",
    "reload(alpenglow.stitching)\n",
    "reload(alpenglow.files)\n",
    "from alpenglow.stitching import stitch, find_shift, apply_shift"
   ]
  },
  {
   "cell_type": "code",
   "execution_count": 2,
   "metadata": {
    "collapsed": true
   },
   "outputs": [],
   "source": [
    "from skimage.feature import register_translation\n",
    "from skimage import img_as_float\n",
    "from skimage import exposure\n",
    "from skimage.io import imread_collection, ImageCollection\n",
    "from skimage.external.tifffile import imread\n",
    "import skimage.external.tifffile as tif\n",
    "import skimage\n",
    "import dask.array as da\n",
    "from dask import delayed"
   ]
  },
  {
   "cell_type": "code",
   "execution_count": 5,
   "metadata": {
    "collapsed": false
   },
   "outputs": [],
   "source": [
    "rm ../data/*.tif"
   ]
  },
  {
   "cell_type": "code",
   "execution_count": 7,
   "metadata": {
    "collapsed": true
   },
   "outputs": [],
   "source": [
    "mkdir ../data/AO"
   ]
  },
  {
   "cell_type": "code",
   "execution_count": 3,
   "metadata": {
    "collapsed": true
   },
   "outputs": [],
   "source": [
    "s3 = boto3.resource('s3')\n",
    "bucket = s3.Bucket('alpenglowoptics')\n",
    "ll = list(bucket.objects.all())"
   ]
  },
  {
   "cell_type": "code",
   "execution_count": 4,
   "metadata": {
    "collapsed": true
   },
   "outputs": [],
   "source": [
    "import numpy as np\n",
    "import os\n",
    "import boto3\n",
    "\n",
    "\n",
    "def download_s3(remote_fname, local_fname, bucket_name=\"alpenglowoptics\"):\n",
    "    \"\"\"\n",
    "    Download a file from S3 to our local file-system\n",
    "    \"\"\"\n",
    "    if not os.path.exists(local_fname):\n",
    "        s3 = boto3.resource('s3')\n",
    "        b = s3.Bucket(bucket_name)\n",
    "        b.download_file(remote_fname, local_fname)  "
   ]
  },
  {
   "cell_type": "code",
   "execution_count": 10,
   "metadata": {
    "collapsed": false
   },
   "outputs": [],
   "source": [
    "for x in range(4, 32):\n",
    "        fname = \"im_%06d_000055.tif\" % x \n",
    "        download_s3('76AO/Strips/' + fname, '../data/AO/' + fname)    \n"
   ]
  },
  {
   "cell_type": "code",
   "execution_count": 5,
   "metadata": {
    "collapsed": true
   },
   "outputs": [
    {
     "name": "stderr",
     "output_type": "stream",
     "text": [
      "../alpenglow/stitching.py:71: VisibleDeprecationWarning: using a non-integer number instead of an integer will result in an error in the future\n",
      "  registered = np.zeros((rows1 + rows2 - overlap, cols1), dtype=int)\n",
      "../alpenglow/stitching.py:76: VisibleDeprecationWarning: using a non-integer number instead of an integer will result in an error in the future\n",
      "  registered[rows2-margin:, abs(shift[1]):] = image1[overlap-margin:, :shift[1]]\n",
      "../alpenglow/stitching.py:84: VisibleDeprecationWarning: using a non-integer number instead of an integer will result in an error in the future\n",
      "  fade1[:, abs(shift[1]):] = image1[overlap-margin:overlap, :shift[1]] * np.arange(0, 1, 0.01)[:, np.newaxis]\n"
     ]
    }
   ],
   "source": [
    "image1 = tif.imread('../data/AO/im_000005_000055.tif')\n",
    "image2 = tif.imread('../data/AO/im_000006_000055.tif')\n",
    "mosaic, shift = stitch(image1, image2) #stitching 5 with 6 to produce mosaic"
   ]
  },
  {
   "cell_type": "code",
   "execution_count": 6,
   "metadata": {
    "collapsed": false
   },
   "outputs": [
    {
     "name": "stderr",
     "output_type": "stream",
     "text": [
      "../alpenglow/stitching.py:71: VisibleDeprecationWarning: using a non-integer number instead of an integer will result in an error in the future\n",
      "  registered = np.zeros((rows1 + rows2 - overlap, cols1), dtype=int)\n",
      "../alpenglow/stitching.py:74: VisibleDeprecationWarning: using a non-integer number instead of an integer will result in an error in the future\n",
      "  registered[rows2-margin:, :cols1-shift[1]] = image1[overlap-margin:, shift[1]:]\n",
      "../alpenglow/stitching.py:82: VisibleDeprecationWarning: using a non-integer number instead of an integer will result in an error in the future\n",
      "  fade1[:, :cols1-shift[1]] = image1[overlap-margin:overlap, shift[1]:] * np.arange(0, 1, 0.01)[:, np.newaxis]\n",
      "../alpenglow/stitching.py:76: VisibleDeprecationWarning: using a non-integer number instead of an integer will result in an error in the future\n",
      "  registered[rows2-margin:, abs(shift[1]):] = image1[overlap-margin:, :shift[1]]\n",
      "../alpenglow/stitching.py:84: VisibleDeprecationWarning: using a non-integer number instead of an integer will result in an error in the future\n",
      "  fade1[:, abs(shift[1]):] = image1[overlap-margin:overlap, :shift[1]] * np.arange(0, 1, 0.01)[:, np.newaxis]\n"
     ]
    }
   ],
   "source": [
    "for x in range (7, 32):\n",
    "    image2 = tif.imread('../data/AO/im_%06d_000055.tif' % x)\n",
    "    mosaic, shift = stitch(mosaic, image2)"
   ]
  },
  {
   "cell_type": "code",
   "execution_count": 7,
   "metadata": {
    "collapsed": true
   },
   "outputs": [],
   "source": [
    "tif.imsave('../data/AO/mosaic_000055.tif', mosaic)"
   ]
  },
  {
   "cell_type": "code",
   "execution_count": null,
   "metadata": {
    "collapsed": true
   },
   "outputs": [],
   "source": []
  },
  {
   "cell_type": "code",
   "execution_count": null,
   "metadata": {
    "collapsed": true
   },
   "outputs": [],
   "source": []
  },
  {
   "cell_type": "code",
   "execution_count": null,
   "metadata": {
    "collapsed": true
   },
   "outputs": [],
   "source": []
  },
  {
   "cell_type": "code",
   "execution_count": null,
   "metadata": {
    "collapsed": true
   },
   "outputs": [],
   "source": []
  }
 ],
 "metadata": {
  "kernelspec": {
   "display_name": "Python 3",
   "language": "python",
   "name": "python3"
  },
  "language_info": {
   "codemirror_mode": {
    "name": "ipython",
    "version": 3
   },
   "file_extension": ".py",
   "mimetype": "text/x-python",
   "name": "python",
   "nbconvert_exporter": "python",
   "pygments_lexer": "ipython3",
   "version": "3.5.2"
  }
 },
 "nbformat": 4,
 "nbformat_minor": 2
}
